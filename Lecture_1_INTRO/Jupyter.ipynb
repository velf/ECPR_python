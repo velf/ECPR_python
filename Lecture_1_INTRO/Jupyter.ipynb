{
 "cells": [
  {
   "cell_type": "markdown",
   "metadata": {},
   "source": [
    "# Introduction to Jupyter Notebook : a web-based interactive environment"
   ]
  },
  {
   "cell_type": "markdown",
   "metadata": {},
   "source": [
    "<div class=\"frontmatter text-center\">\n",
    "<img src=\"jupyter-sq-text.svg\" width=\"200px\"/>\n",
    "Sources and Inspiration: http://jupyter.org/ and [Class of Roberta Sinatra](http://www.robertasinatra.com/teaching/math5012.html)\n",
    "</div>"
   ]
  },
  {
   "cell_type": "markdown",
   "metadata": {},
   "source": [
    "### Why is it good for us?\n",
    "\n",
    "In data science we have for main tasks:\n",
    "1. write scripts to get and prepare data\n",
    "2. run code with algorithms and statitical models\n",
    "3. visualize and analyze results\n",
    "4. revise, and repeat the whole process (never ending loop)\n",
    "\n",
    "and with this interactive environment we can easily do that!\n",
    "\n",
    "\n",
    "### What is Jupyter Notebook?\n",
    "\n",
    " A collection of tools for interactive computing\n",
    "- A [protocol](http://ipython.org/ipython-doc/3/development/messaging.html) (JSON over ZeroMQ)\n",
    "- Over 40 languages supported **by the community**\n",
    "  - Python\n",
    "  - Julia\n",
    "  - R\n",
    "  - Javascript\n",
    "  - Ruby\n",
    "  - C++\n",
    "  - Scala\n",
    "  - [more...](https://github.com/ipython/ipython/wiki/IPython-kernels-for-other-languages)\n",
    "\n",
    "### Allows you to Markdown"
   ]
  },
  {
   "cell_type": "markdown",
   "metadata": {},
   "source": [
    "### How to run code?\n",
    "\n",
    "To run the code below:\n",
    "\n",
    "1. Click on the cell to select it.\n",
    "2. Press `SHIFT+ENTER` on your keyboard or press the play button (<button class='fa fa-play icon-play btn btn-xs btn-default'></button>) in the toolbar above.\n",
    "\n",
    "A full tutorial for using the notebook interface is available [here](ipython_examples/Notebook/Index.ipynb)."
   ]
  },
  {
   "cell_type": "markdown",
   "metadata": {},
   "source": [
    "Click twice into the cell, to see how touse Markdown\n",
    "\n",
    "# Header\n",
    "## Subheader\n",
    "...\n",
    "### Subsubheader\n",
    "*italic* \n",
    "\n",
    "**bold**\n",
    "- listing\n",
    "- listing\n",
    "\n",
    "[use links](http://jupyter.org)"
   ]
  },
  {
   "cell_type": "markdown",
   "metadata": {},
   "source": [
    "## Many export possibilities:\n",
    "- publication: latex\n",
    "- images: png/jpeg/svg\n",
    "- interactive export: javascript/html"
   ]
  },
  {
   "cell_type": "markdown",
   "metadata": {},
   "source": [
    "### Latex export"
   ]
  },
  {
   "cell_type": "code",
   "execution_count": null,
   "metadata": {
    "scrolled": false
   },
   "outputs": [],
   "source": [
    "import numpy as np\n",
    "p = np.polynomial.Polynomial([1,2,3], [-10, 10])\n",
    "print p\n",
    "\n",
    "def poly_to_latex(p):\n",
    "    \"\"\"Render a numpy Polynomial object as a Latex expression\"\"\"\n",
    "    terms = ['%.2g' % p.coef[0]]\n",
    "    if len(p) > 1:\n",
    "        term = 'x'\n",
    "        c = p.coef[1]\n",
    "        if c!=1:\n",
    "            term = ('%.2g ' % c) + term\n",
    "        terms.append(term)\n",
    "    if len(p) > 2:\n",
    "        for i in range(2, len(p)):\n",
    "            term = 'x^%d' % i\n",
    "            c = p.coef[i]\n",
    "            if c!=1:\n",
    "                term = ('%.2g ' % c) + term\n",
    "            terms.append(term)\n",
    "    px = '$P(x)=%s$' % '+'.join(terms)\n",
    "    dom = r', $x \\in [%.2g,\\ %.2g]$' % tuple(p.domain)\n",
    "    return px+dom\n",
    "\n",
    "from IPython.display import Latex\n",
    "Latex(poly_to_latex(p))"
   ]
  },
  {
   "cell_type": "markdown",
   "metadata": {},
   "source": [
    "### Embed Images"
   ]
  },
  {
   "cell_type": "code",
   "execution_count": null,
   "metadata": {},
   "outputs": [],
   "source": [
    "from IPython.core.display import Image, display\n",
    "display(Image('https://i.ytimg.com/vi/j22DmsZEv30/maxresdefault.jpg', width=400))"
   ]
  },
  {
   "cell_type": "markdown",
   "metadata": {},
   "source": [
    "### You can run bash scripts in it"
   ]
  },
  {
   "cell_type": "code",
   "execution_count": null,
   "metadata": {},
   "outputs": [],
   "source": [
    "# seaborn is a statistical data visualization python libary, worth to have it: https://stanford.edu/~mwaskom/software/seaborn/\n",
    "! pip install seaborn"
   ]
  },
  {
   "cell_type": "markdown",
   "metadata": {},
   "source": [
    "### And create interactive visualizations"
   ]
  },
  {
   "cell_type": "code",
   "execution_count": null,
   "metadata": {},
   "outputs": [],
   "source": [
    "%matplotlib notebook #show vchart in the notebook\n",
    "\n",
    "import pandas as pd\n",
    "import numpy as np\n",
    "import matplotlib\n",
    "\n",
    "from matplotlib import pyplot as plt\n",
    "import seaborn as sns\n",
    "\n",
    "ts = pd.Series(np.random.randn(1000), index=pd.date_range('1/1/2000', periods=1000))\n",
    "ts = ts.cumsum()\n",
    "\n",
    "df = pd.DataFrame(np.random.randn(1000, 4), index=ts.index,\n",
    "                  columns=['A', 'B', 'C', 'D'])\n",
    "df = df.cumsum()\n",
    "df.plot(); plt.legend(loc='best')"
   ]
  },
  {
   "cell_type": "markdown",
   "metadata": {},
   "source": [
    "### Really good for exploratory data analysis"
   ]
  },
  {
   "cell_type": "code",
   "execution_count": null,
   "metadata": {},
   "outputs": [],
   "source": [
    "import numpy as np\n",
    "import matplotlib.pyplot as plt\n",
    "import pandas as pd\n",
    "\n",
    "data = np.array([np.cumsum(np.random.random(100) - 0.3) for i in range(3) ]).T\n",
    "\n",
    "df = pd.DataFrame(data, columns=list('ABC'))\n",
    "df.head()"
   ]
  },
  {
   "cell_type": "code",
   "execution_count": null,
   "metadata": {},
   "outputs": [],
   "source": [
    "df.describe()"
   ]
  },
  {
   "cell_type": "code",
   "execution_count": null,
   "metadata": {},
   "outputs": [],
   "source": [
    "df.plot()"
   ]
  },
  {
   "cell_type": "markdown",
   "metadata": {},
   "source": [
    "###  Cool stuffs published in notebooks:\n",
    "- [Mining the Social Web](https://nbviewer.jupyter.org/github/ptwobrussell/Mining-the-Social-Web-2nd-Edition/tree/master/ipynb/)\n",
    "- [xkcd plots](https://nbviewer.jupyter.org/url/jakevdp.github.com/downloads/notebooks/XKCD_plots.ipynb)\n",
    "\n",
    "### Exporting Notebooks with nbconvert"
   ]
  },
  {
   "cell_type": "code",
   "execution_count": null,
   "metadata": {},
   "outputs": [],
   "source": [
    "!jupyter nbconvert --to html Jupyter.ipynb #html version of a notebook"
   ]
  },
  {
   "cell_type": "code",
   "execution_count": null,
   "metadata": {},
   "outputs": [],
   "source": [
    "!jupyter nbconvert --to html  --template basic Jupyter.ipynb #good for websites"
   ]
  },
  {
   "cell_type": "code",
   "execution_count": null,
   "metadata": {},
   "outputs": [],
   "source": [
    "!jupyter nbconvert --to markdown \"Jupyter\""
   ]
  },
  {
   "cell_type": "code",
   "execution_count": null,
   "metadata": {
    "scrolled": true
   },
   "outputs": [],
   "source": [
    "!head -n 50 \"Jupyter.md\""
   ]
  },
  {
   "cell_type": "markdown",
   "metadata": {},
   "source": [
    "### We can even make presentations with the notebook, while creating an interactive html file.\n",
    "\n",
    "[read more about how to make slides](http://www.slideviper.oquanta.info/tutorial/slideshow_tutorial_slides.html#/)\n",
    "!jupyter nbconvert Jupyter.ipynb --to slides "
   ]
  }
 ],
 "metadata": {
  "kernelspec": {
   "display_name": "Python 3",
   "language": "python",
   "name": "python3"
  },
  "language_info": {
   "codemirror_mode": {
    "name": "ipython",
    "version": 3
   },
   "file_extension": ".py",
   "mimetype": "text/x-python",
   "name": "python",
   "nbconvert_exporter": "python",
   "pygments_lexer": "ipython3",
   "version": "3.6.7"
  }
 },
 "nbformat": 4,
 "nbformat_minor": 1
}
